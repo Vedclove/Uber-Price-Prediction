{
 "cells": [
  {
   "cell_type": "markdown",
   "id": "162eaa7b",
   "metadata": {
    "papermill": {
     "duration": 0.010477,
     "end_time": "2022-11-30T18:11:04.506843",
     "exception": false,
     "start_time": "2022-11-30T18:11:04.496366",
     "status": "completed"
    },
    "tags": []
   },
   "source": [
    "Predict the price of the Uber ride from a given pickup point to the agreed drop-off location.\n",
    "Perform following tasks:\n",
    "1. Pre-process the dataset.\n",
    "2. Identify outliers.\n",
    "3. Check the correlation.\n",
    "4. Implement linear regression and random forest regression models.\n",
    "5. Evaluate the models and compare their respective scores like R2, RMSE, etc."
   ]
  },
  {
   "cell_type": "code",
   "execution_count": 1,
   "id": "c008cfba",
   "metadata": {
    "execution": {
     "iopub.execute_input": "2022-11-30T18:11:04.526927Z",
     "iopub.status.busy": "2022-11-30T18:11:04.526425Z",
     "iopub.status.idle": "2022-11-30T18:11:05.797642Z",
     "shell.execute_reply": "2022-11-30T18:11:05.796311Z"
    },
    "papermill": {
     "duration": 1.28474,
     "end_time": "2022-11-30T18:11:05.800816",
     "exception": false,
     "start_time": "2022-11-30T18:11:04.516076",
     "status": "completed"
    },
    "tags": []
   },
   "outputs": [],
   "source": [
    "import pandas as pd\n",
    "import numpy as np\n",
    "import matplotlib.pyplot as plt\n",
    "import seaborn as sns\n",
    "from sklearn.model_selection import train_test_split"
   ]
  },
  {
   "cell_type": "code",
   "execution_count": 2,
   "id": "9787ea22",
   "metadata": {
    "execution": {
     "iopub.execute_input": "2022-11-30T18:11:05.820651Z",
     "iopub.status.busy": "2022-11-30T18:11:05.820214Z",
     "iopub.status.idle": "2022-11-30T18:11:06.647442Z",
     "shell.execute_reply": "2022-11-30T18:11:06.646607Z"
    },
    "papermill": {
     "duration": 0.840355,
     "end_time": "2022-11-30T18:11:06.650199",
     "exception": false,
     "start_time": "2022-11-30T18:11:05.809844",
     "status": "completed"
    },
    "tags": []
   },
   "outputs": [
    {
     "name": "stdout",
     "output_type": "stream",
     "text": [
      "<class 'pandas.core.frame.DataFrame'>\n",
      "RangeIndex: 200000 entries, 0 to 199999\n",
      "Data columns (total 9 columns):\n",
      " #   Column             Non-Null Count   Dtype  \n",
      "---  ------             --------------   -----  \n",
      " 0   Unnamed: 0         200000 non-null  int64  \n",
      " 1   key                200000 non-null  object \n",
      " 2   fare_amount        200000 non-null  float64\n",
      " 3   pickup_datetime    200000 non-null  object \n",
      " 4   pickup_longitude   200000 non-null  float64\n",
      " 5   pickup_latitude    200000 non-null  float64\n",
      " 6   dropoff_longitude  199999 non-null  float64\n",
      " 7   dropoff_latitude   199999 non-null  float64\n",
      " 8   passenger_count    200000 non-null  int64  \n",
      "dtypes: float64(5), int64(2), object(2)\n",
      "memory usage: 13.7+ MB\n"
     ]
    }
   ],
   "source": [
    "df = pd.read_csv('D:/BE practicals/ML/uber.csv')\n",
    "df.info()"
   ]
  },
  {
   "cell_type": "markdown",
   "id": "904fbed0",
   "metadata": {
    "papermill": {
     "duration": 0.009502,
     "end_time": "2022-11-30T18:11:06.671513",
     "exception": false,
     "start_time": "2022-11-30T18:11:06.662011",
     "status": "completed"
    },
    "tags": []
   },
   "source": [
    " ## 1. Pre-process the dataset."
   ]
  },
  {
   "cell_type": "code",
   "execution_count": 3,
   "id": "a1763e19",
   "metadata": {
    "execution": {
     "iopub.execute_input": "2022-11-30T18:11:06.692807Z",
     "iopub.status.busy": "2022-11-30T18:11:06.692387Z",
     "iopub.status.idle": "2022-11-30T18:11:06.701550Z",
     "shell.execute_reply": "2022-11-30T18:11:06.700746Z"
    },
    "papermill": {
     "duration": 0.021633,
     "end_time": "2022-11-30T18:11:06.703762",
     "exception": false,
     "start_time": "2022-11-30T18:11:06.682129",
     "status": "completed"
    },
    "tags": []
   },
   "outputs": [
    {
     "data": {
      "text/plain": [
       "(200000, 9)"
      ]
     },
     "execution_count": 3,
     "metadata": {},
     "output_type": "execute_result"
    }
   ],
   "source": [
    "df.shape"
   ]
  },
  {
   "cell_type": "code",
   "execution_count": 4,
   "id": "03c39d8b",
   "metadata": {
    "execution": {
     "iopub.execute_input": "2022-11-30T18:11:06.723913Z",
     "iopub.status.busy": "2022-11-30T18:11:06.723234Z",
     "iopub.status.idle": "2022-11-30T18:11:06.740961Z",
     "shell.execute_reply": "2022-11-30T18:11:06.740106Z"
    },
    "papermill": {
     "duration": 0.030449,
     "end_time": "2022-11-30T18:11:06.743272",
     "exception": false,
     "start_time": "2022-11-30T18:11:06.712823",
     "status": "completed"
    },
    "tags": []
   },
   "outputs": [
    {
     "data": {
      "text/html": [
       "<div>\n",
       "<style scoped>\n",
       "    .dataframe tbody tr th:only-of-type {\n",
       "        vertical-align: middle;\n",
       "    }\n",
       "\n",
       "    .dataframe tbody tr th {\n",
       "        vertical-align: top;\n",
       "    }\n",
       "\n",
       "    .dataframe thead th {\n",
       "        text-align: right;\n",
       "    }\n",
       "</style>\n",
       "<table border=\"1\" class=\"dataframe\">\n",
       "  <thead>\n",
       "    <tr style=\"text-align: right;\">\n",
       "      <th></th>\n",
       "      <th>Unnamed: 0</th>\n",
       "      <th>key</th>\n",
       "      <th>fare_amount</th>\n",
       "      <th>pickup_datetime</th>\n",
       "      <th>pickup_longitude</th>\n",
       "      <th>pickup_latitude</th>\n",
       "      <th>dropoff_longitude</th>\n",
       "      <th>dropoff_latitude</th>\n",
       "      <th>passenger_count</th>\n",
       "    </tr>\n",
       "  </thead>\n",
       "  <tbody>\n",
       "    <tr>\n",
       "      <th>0</th>\n",
       "      <td>24238194</td>\n",
       "      <td>2015-05-07 19:52:06.0000003</td>\n",
       "      <td>7.5</td>\n",
       "      <td>2015-05-07 19:52:06 UTC</td>\n",
       "      <td>-73.999817</td>\n",
       "      <td>40.738354</td>\n",
       "      <td>-73.999512</td>\n",
       "      <td>40.723217</td>\n",
       "      <td>1</td>\n",
       "    </tr>\n",
       "    <tr>\n",
       "      <th>1</th>\n",
       "      <td>27835199</td>\n",
       "      <td>2009-07-17 20:04:56.0000002</td>\n",
       "      <td>7.7</td>\n",
       "      <td>2009-07-17 20:04:56 UTC</td>\n",
       "      <td>-73.994355</td>\n",
       "      <td>40.728225</td>\n",
       "      <td>-73.994710</td>\n",
       "      <td>40.750325</td>\n",
       "      <td>1</td>\n",
       "    </tr>\n",
       "    <tr>\n",
       "      <th>2</th>\n",
       "      <td>44984355</td>\n",
       "      <td>2009-08-24 21:45:00.00000061</td>\n",
       "      <td>12.9</td>\n",
       "      <td>2009-08-24 21:45:00 UTC</td>\n",
       "      <td>-74.005043</td>\n",
       "      <td>40.740770</td>\n",
       "      <td>-73.962565</td>\n",
       "      <td>40.772647</td>\n",
       "      <td>1</td>\n",
       "    </tr>\n",
       "    <tr>\n",
       "      <th>3</th>\n",
       "      <td>25894730</td>\n",
       "      <td>2009-06-26 08:22:21.0000001</td>\n",
       "      <td>5.3</td>\n",
       "      <td>2009-06-26 08:22:21 UTC</td>\n",
       "      <td>-73.976124</td>\n",
       "      <td>40.790844</td>\n",
       "      <td>-73.965316</td>\n",
       "      <td>40.803349</td>\n",
       "      <td>3</td>\n",
       "    </tr>\n",
       "    <tr>\n",
       "      <th>4</th>\n",
       "      <td>17610152</td>\n",
       "      <td>2014-08-28 17:47:00.000000188</td>\n",
       "      <td>16.0</td>\n",
       "      <td>2014-08-28 17:47:00 UTC</td>\n",
       "      <td>-73.925023</td>\n",
       "      <td>40.744085</td>\n",
       "      <td>-73.973082</td>\n",
       "      <td>40.761247</td>\n",
       "      <td>5</td>\n",
       "    </tr>\n",
       "  </tbody>\n",
       "</table>\n",
       "</div>"
      ],
      "text/plain": [
       "   Unnamed: 0                            key  fare_amount  \\\n",
       "0    24238194    2015-05-07 19:52:06.0000003          7.5   \n",
       "1    27835199    2009-07-17 20:04:56.0000002          7.7   \n",
       "2    44984355   2009-08-24 21:45:00.00000061         12.9   \n",
       "3    25894730    2009-06-26 08:22:21.0000001          5.3   \n",
       "4    17610152  2014-08-28 17:47:00.000000188         16.0   \n",
       "\n",
       "           pickup_datetime  pickup_longitude  pickup_latitude  \\\n",
       "0  2015-05-07 19:52:06 UTC        -73.999817        40.738354   \n",
       "1  2009-07-17 20:04:56 UTC        -73.994355        40.728225   \n",
       "2  2009-08-24 21:45:00 UTC        -74.005043        40.740770   \n",
       "3  2009-06-26 08:22:21 UTC        -73.976124        40.790844   \n",
       "4  2014-08-28 17:47:00 UTC        -73.925023        40.744085   \n",
       "\n",
       "   dropoff_longitude  dropoff_latitude  passenger_count  \n",
       "0         -73.999512         40.723217                1  \n",
       "1         -73.994710         40.750325                1  \n",
       "2         -73.962565         40.772647                1  \n",
       "3         -73.965316         40.803349                3  \n",
       "4         -73.973082         40.761247                5  "
      ]
     },
     "execution_count": 4,
     "metadata": {},
     "output_type": "execute_result"
    }
   ],
   "source": [
    "df.head()"
   ]
  },
  {
   "cell_type": "code",
   "execution_count": 5,
   "id": "fd08f66e",
   "metadata": {
    "execution": {
     "iopub.execute_input": "2022-11-30T18:11:06.764651Z",
     "iopub.status.busy": "2022-11-30T18:11:06.763930Z",
     "iopub.status.idle": "2022-11-30T18:11:06.808123Z",
     "shell.execute_reply": "2022-11-30T18:11:06.806656Z"
    },
    "papermill": {
     "duration": 0.062327,
     "end_time": "2022-11-30T18:11:06.815278",
     "exception": false,
     "start_time": "2022-11-30T18:11:06.752951",
     "status": "completed"
    },
    "tags": []
   },
   "outputs": [
    {
     "data": {
      "text/html": [
       "<div>\n",
       "<style scoped>\n",
       "    .dataframe tbody tr th:only-of-type {\n",
       "        vertical-align: middle;\n",
       "    }\n",
       "\n",
       "    .dataframe tbody tr th {\n",
       "        vertical-align: top;\n",
       "    }\n",
       "\n",
       "    .dataframe thead th {\n",
       "        text-align: right;\n",
       "    }\n",
       "</style>\n",
       "<table border=\"1\" class=\"dataframe\">\n",
       "  <thead>\n",
       "    <tr style=\"text-align: right;\">\n",
       "      <th></th>\n",
       "      <th>Unnamed: 0</th>\n",
       "      <th>key</th>\n",
       "      <th>fare_amount</th>\n",
       "      <th>pickup_datetime</th>\n",
       "      <th>pickup_longitude</th>\n",
       "      <th>pickup_latitude</th>\n",
       "      <th>dropoff_longitude</th>\n",
       "      <th>dropoff_latitude</th>\n",
       "      <th>passenger_count</th>\n",
       "    </tr>\n",
       "  </thead>\n",
       "  <tbody>\n",
       "    <tr>\n",
       "      <th>0</th>\n",
       "      <td>False</td>\n",
       "      <td>False</td>\n",
       "      <td>False</td>\n",
       "      <td>False</td>\n",
       "      <td>False</td>\n",
       "      <td>False</td>\n",
       "      <td>False</td>\n",
       "      <td>False</td>\n",
       "      <td>False</td>\n",
       "    </tr>\n",
       "    <tr>\n",
       "      <th>1</th>\n",
       "      <td>False</td>\n",
       "      <td>False</td>\n",
       "      <td>False</td>\n",
       "      <td>False</td>\n",
       "      <td>False</td>\n",
       "      <td>False</td>\n",
       "      <td>False</td>\n",
       "      <td>False</td>\n",
       "      <td>False</td>\n",
       "    </tr>\n",
       "    <tr>\n",
       "      <th>2</th>\n",
       "      <td>False</td>\n",
       "      <td>False</td>\n",
       "      <td>False</td>\n",
       "      <td>False</td>\n",
       "      <td>False</td>\n",
       "      <td>False</td>\n",
       "      <td>False</td>\n",
       "      <td>False</td>\n",
       "      <td>False</td>\n",
       "    </tr>\n",
       "    <tr>\n",
       "      <th>3</th>\n",
       "      <td>False</td>\n",
       "      <td>False</td>\n",
       "      <td>False</td>\n",
       "      <td>False</td>\n",
       "      <td>False</td>\n",
       "      <td>False</td>\n",
       "      <td>False</td>\n",
       "      <td>False</td>\n",
       "      <td>False</td>\n",
       "    </tr>\n",
       "    <tr>\n",
       "      <th>4</th>\n",
       "      <td>False</td>\n",
       "      <td>False</td>\n",
       "      <td>False</td>\n",
       "      <td>False</td>\n",
       "      <td>False</td>\n",
       "      <td>False</td>\n",
       "      <td>False</td>\n",
       "      <td>False</td>\n",
       "      <td>False</td>\n",
       "    </tr>\n",
       "    <tr>\n",
       "      <th>...</th>\n",
       "      <td>...</td>\n",
       "      <td>...</td>\n",
       "      <td>...</td>\n",
       "      <td>...</td>\n",
       "      <td>...</td>\n",
       "      <td>...</td>\n",
       "      <td>...</td>\n",
       "      <td>...</td>\n",
       "      <td>...</td>\n",
       "    </tr>\n",
       "    <tr>\n",
       "      <th>199995</th>\n",
       "      <td>False</td>\n",
       "      <td>False</td>\n",
       "      <td>False</td>\n",
       "      <td>False</td>\n",
       "      <td>False</td>\n",
       "      <td>False</td>\n",
       "      <td>False</td>\n",
       "      <td>False</td>\n",
       "      <td>False</td>\n",
       "    </tr>\n",
       "    <tr>\n",
       "      <th>199996</th>\n",
       "      <td>False</td>\n",
       "      <td>False</td>\n",
       "      <td>False</td>\n",
       "      <td>False</td>\n",
       "      <td>False</td>\n",
       "      <td>False</td>\n",
       "      <td>False</td>\n",
       "      <td>False</td>\n",
       "      <td>False</td>\n",
       "    </tr>\n",
       "    <tr>\n",
       "      <th>199997</th>\n",
       "      <td>False</td>\n",
       "      <td>False</td>\n",
       "      <td>False</td>\n",
       "      <td>False</td>\n",
       "      <td>False</td>\n",
       "      <td>False</td>\n",
       "      <td>False</td>\n",
       "      <td>False</td>\n",
       "      <td>False</td>\n",
       "    </tr>\n",
       "    <tr>\n",
       "      <th>199998</th>\n",
       "      <td>False</td>\n",
       "      <td>False</td>\n",
       "      <td>False</td>\n",
       "      <td>False</td>\n",
       "      <td>False</td>\n",
       "      <td>False</td>\n",
       "      <td>False</td>\n",
       "      <td>False</td>\n",
       "      <td>False</td>\n",
       "    </tr>\n",
       "    <tr>\n",
       "      <th>199999</th>\n",
       "      <td>False</td>\n",
       "      <td>False</td>\n",
       "      <td>False</td>\n",
       "      <td>False</td>\n",
       "      <td>False</td>\n",
       "      <td>False</td>\n",
       "      <td>False</td>\n",
       "      <td>False</td>\n",
       "      <td>False</td>\n",
       "    </tr>\n",
       "  </tbody>\n",
       "</table>\n",
       "<p>200000 rows × 9 columns</p>\n",
       "</div>"
      ],
      "text/plain": [
       "        Unnamed: 0    key  fare_amount  pickup_datetime  pickup_longitude  \\\n",
       "0            False  False        False            False             False   \n",
       "1            False  False        False            False             False   \n",
       "2            False  False        False            False             False   \n",
       "3            False  False        False            False             False   \n",
       "4            False  False        False            False             False   \n",
       "...            ...    ...          ...              ...               ...   \n",
       "199995       False  False        False            False             False   \n",
       "199996       False  False        False            False             False   \n",
       "199997       False  False        False            False             False   \n",
       "199998       False  False        False            False             False   \n",
       "199999       False  False        False            False             False   \n",
       "\n",
       "        pickup_latitude  dropoff_longitude  dropoff_latitude  passenger_count  \n",
       "0                 False              False             False            False  \n",
       "1                 False              False             False            False  \n",
       "2                 False              False             False            False  \n",
       "3                 False              False             False            False  \n",
       "4                 False              False             False            False  \n",
       "...                 ...                ...               ...              ...  \n",
       "199995            False              False             False            False  \n",
       "199996            False              False             False            False  \n",
       "199997            False              False             False            False  \n",
       "199998            False              False             False            False  \n",
       "199999            False              False             False            False  \n",
       "\n",
       "[200000 rows x 9 columns]"
      ]
     },
     "execution_count": 5,
     "metadata": {},
     "output_type": "execute_result"
    }
   ],
   "source": [
    "df.isnull()"
   ]
  },
  {
   "cell_type": "code",
   "execution_count": 6,
   "id": "917e86d7",
   "metadata": {
    "execution": {
     "iopub.execute_input": "2022-11-30T18:11:06.844370Z",
     "iopub.status.busy": "2022-11-30T18:11:06.843951Z",
     "iopub.status.idle": "2022-11-30T18:11:06.872712Z",
     "shell.execute_reply": "2022-11-30T18:11:06.871570Z"
    },
    "papermill": {
     "duration": 0.043836,
     "end_time": "2022-11-30T18:11:06.875185",
     "exception": false,
     "start_time": "2022-11-30T18:11:06.831349",
     "status": "completed"
    },
    "tags": []
   },
   "outputs": [
    {
     "data": {
      "text/html": [
       "<div>\n",
       "<style scoped>\n",
       "    .dataframe tbody tr th:only-of-type {\n",
       "        vertical-align: middle;\n",
       "    }\n",
       "\n",
       "    .dataframe tbody tr th {\n",
       "        vertical-align: top;\n",
       "    }\n",
       "\n",
       "    .dataframe thead th {\n",
       "        text-align: right;\n",
       "    }\n",
       "</style>\n",
       "<table border=\"1\" class=\"dataframe\">\n",
       "  <thead>\n",
       "    <tr style=\"text-align: right;\">\n",
       "      <th></th>\n",
       "      <th>fare_amount</th>\n",
       "      <th>pickup_datetime</th>\n",
       "      <th>pickup_longitude</th>\n",
       "      <th>pickup_latitude</th>\n",
       "      <th>dropoff_longitude</th>\n",
       "      <th>dropoff_latitude</th>\n",
       "      <th>passenger_count</th>\n",
       "    </tr>\n",
       "  </thead>\n",
       "  <tbody>\n",
       "    <tr>\n",
       "      <th>0</th>\n",
       "      <td>7.5</td>\n",
       "      <td>2015-05-07 19:52:06 UTC</td>\n",
       "      <td>-73.999817</td>\n",
       "      <td>40.738354</td>\n",
       "      <td>-73.999512</td>\n",
       "      <td>40.723217</td>\n",
       "      <td>1</td>\n",
       "    </tr>\n",
       "    <tr>\n",
       "      <th>1</th>\n",
       "      <td>7.7</td>\n",
       "      <td>2009-07-17 20:04:56 UTC</td>\n",
       "      <td>-73.994355</td>\n",
       "      <td>40.728225</td>\n",
       "      <td>-73.994710</td>\n",
       "      <td>40.750325</td>\n",
       "      <td>1</td>\n",
       "    </tr>\n",
       "    <tr>\n",
       "      <th>2</th>\n",
       "      <td>12.9</td>\n",
       "      <td>2009-08-24 21:45:00 UTC</td>\n",
       "      <td>-74.005043</td>\n",
       "      <td>40.740770</td>\n",
       "      <td>-73.962565</td>\n",
       "      <td>40.772647</td>\n",
       "      <td>1</td>\n",
       "    </tr>\n",
       "    <tr>\n",
       "      <th>3</th>\n",
       "      <td>5.3</td>\n",
       "      <td>2009-06-26 08:22:21 UTC</td>\n",
       "      <td>-73.976124</td>\n",
       "      <td>40.790844</td>\n",
       "      <td>-73.965316</td>\n",
       "      <td>40.803349</td>\n",
       "      <td>3</td>\n",
       "    </tr>\n",
       "    <tr>\n",
       "      <th>4</th>\n",
       "      <td>16.0</td>\n",
       "      <td>2014-08-28 17:47:00 UTC</td>\n",
       "      <td>-73.925023</td>\n",
       "      <td>40.744085</td>\n",
       "      <td>-73.973082</td>\n",
       "      <td>40.761247</td>\n",
       "      <td>5</td>\n",
       "    </tr>\n",
       "  </tbody>\n",
       "</table>\n",
       "</div>"
      ],
      "text/plain": [
       "   fare_amount          pickup_datetime  pickup_longitude  pickup_latitude  \\\n",
       "0          7.5  2015-05-07 19:52:06 UTC        -73.999817        40.738354   \n",
       "1          7.7  2009-07-17 20:04:56 UTC        -73.994355        40.728225   \n",
       "2         12.9  2009-08-24 21:45:00 UTC        -74.005043        40.740770   \n",
       "3          5.3  2009-06-26 08:22:21 UTC        -73.976124        40.790844   \n",
       "4         16.0  2014-08-28 17:47:00 UTC        -73.925023        40.744085   \n",
       "\n",
       "   dropoff_longitude  dropoff_latitude  passenger_count  \n",
       "0         -73.999512         40.723217                1  \n",
       "1         -73.994710         40.750325                1  \n",
       "2         -73.962565         40.772647                1  \n",
       "3         -73.965316         40.803349                3  \n",
       "4         -73.973082         40.761247                5  "
      ]
     },
     "execution_count": 6,
     "metadata": {},
     "output_type": "execute_result"
    }
   ],
   "source": [
    "df.drop(columns=[\"Unnamed: 0\", \"key\"], inplace=True)\n",
    "df.head()"
   ]
  },
  {
   "cell_type": "code",
   "execution_count": 7,
   "id": "9108421a",
   "metadata": {
    "execution": {
     "iopub.execute_input": "2022-11-30T18:11:06.898455Z",
     "iopub.status.busy": "2022-11-30T18:11:06.897948Z",
     "iopub.status.idle": "2022-11-30T18:11:06.925041Z",
     "shell.execute_reply": "2022-11-30T18:11:06.923648Z"
    },
    "papermill": {
     "duration": 0.042442,
     "end_time": "2022-11-30T18:11:06.928586",
     "exception": false,
     "start_time": "2022-11-30T18:11:06.886144",
     "status": "completed"
    },
    "tags": []
   },
   "outputs": [
    {
     "data": {
      "text/plain": [
       "fare_amount          0\n",
       "pickup_datetime      0\n",
       "pickup_longitude     0\n",
       "pickup_latitude      0\n",
       "dropoff_longitude    1\n",
       "dropoff_latitude     1\n",
       "passenger_count      0\n",
       "dtype: int64"
      ]
     },
     "execution_count": 7,
     "metadata": {},
     "output_type": "execute_result"
    }
   ],
   "source": [
    "df.isnull().sum()"
   ]
  },
  {
   "cell_type": "code",
   "execution_count": 8,
   "id": "d74a9929",
   "metadata": {
    "execution": {
     "iopub.execute_input": "2022-11-30T18:11:06.960945Z",
     "iopub.status.busy": "2022-11-30T18:11:06.960247Z",
     "iopub.status.idle": "2022-11-30T18:11:06.982463Z",
     "shell.execute_reply": "2022-11-30T18:11:06.980982Z"
    },
    "papermill": {
     "duration": 0.042189,
     "end_time": "2022-11-30T18:11:06.985360",
     "exception": false,
     "start_time": "2022-11-30T18:11:06.943171",
     "status": "completed"
    },
    "tags": []
   },
   "outputs": [],
   "source": [
    "df['dropoff_latitude'].fillna(value=df['dropoff_latitude'].mean(),inplace = True)\n",
    "df['dropoff_longitude'].fillna(value=df['dropoff_longitude'].median(),inplace = True)"
   ]
  },
  {
   "cell_type": "code",
   "execution_count": 9,
   "id": "170da4cf",
   "metadata": {
    "execution": {
     "iopub.execute_input": "2022-11-30T18:11:07.008996Z",
     "iopub.status.busy": "2022-11-30T18:11:07.008591Z",
     "iopub.status.idle": "2022-11-30T18:11:07.017371Z",
     "shell.execute_reply": "2022-11-30T18:11:07.016231Z"
    },
    "papermill": {
     "duration": 0.023382,
     "end_time": "2022-11-30T18:11:07.019606",
     "exception": false,
     "start_time": "2022-11-30T18:11:06.996224",
     "status": "completed"
    },
    "tags": []
   },
   "outputs": [
    {
     "data": {
      "text/plain": [
       "fare_amount          float64\n",
       "pickup_datetime       object\n",
       "pickup_longitude     float64\n",
       "pickup_latitude      float64\n",
       "dropoff_longitude    float64\n",
       "dropoff_latitude     float64\n",
       "passenger_count        int64\n",
       "dtype: object"
      ]
     },
     "execution_count": 9,
     "metadata": {},
     "output_type": "execute_result"
    }
   ],
   "source": [
    "df.dtypes"
   ]
  },
  {
   "cell_type": "code",
   "execution_count": 10,
   "id": "b0a0e899",
   "metadata": {
    "execution": {
     "iopub.execute_input": "2022-11-30T18:11:07.051290Z",
     "iopub.status.busy": "2022-11-30T18:11:07.050446Z",
     "iopub.status.idle": "2022-11-30T18:11:07.055145Z",
     "shell.execute_reply": "2022-11-30T18:11:07.054077Z"
    },
    "papermill": {
     "duration": 0.023146,
     "end_time": "2022-11-30T18:11:07.057805",
     "exception": false,
     "start_time": "2022-11-30T18:11:07.034659",
     "status": "completed"
    },
    "tags": []
   },
   "outputs": [],
   "source": [
    "# From the above output, we see that the data type of 'pickup_datetime' is 'object\n",
    "# But 'pickup_datetime'is a date time stamp variable, which is wrongly interpreted as 'object', so we will convert this variable data type to 'datetime'."
   ]
  },
  {
   "cell_type": "code",
   "execution_count": 11,
   "id": "6d8b9f72",
   "metadata": {
    "execution": {
     "iopub.execute_input": "2022-11-30T18:11:07.091250Z",
     "iopub.status.busy": "2022-11-30T18:11:07.090516Z",
     "iopub.status.idle": "2022-11-30T18:11:36.196222Z",
     "shell.execute_reply": "2022-11-30T18:11:36.195095Z"
    },
    "papermill": {
     "duration": 29.126712,
     "end_time": "2022-11-30T18:11:36.199808",
     "exception": false,
     "start_time": "2022-11-30T18:11:07.073096",
     "status": "completed"
    },
    "tags": []
   },
   "outputs": [
    {
     "data": {
      "text/plain": [
       "fare_amount                      float64\n",
       "pickup_datetime      datetime64[ns, UTC]\n",
       "pickup_longitude                 float64\n",
       "pickup_latitude                  float64\n",
       "dropoff_longitude                float64\n",
       "dropoff_latitude                 float64\n",
       "passenger_count                    int64\n",
       "dtype: object"
      ]
     },
     "execution_count": 11,
     "metadata": {},
     "output_type": "execute_result"
    }
   ],
   "source": [
    "df.pickup_datetime = pd.to_datetime(df.pickup_datetime)\n",
    "df.dtypes"
   ]
  },
  {
   "cell_type": "code",
   "execution_count": 12,
   "id": "f56ecbc9",
   "metadata": {
    "execution": {
     "iopub.execute_input": "2022-11-30T18:11:36.224833Z",
     "iopub.status.busy": "2022-11-30T18:11:36.223625Z",
     "iopub.status.idle": "2022-11-30T18:11:36.228700Z",
     "shell.execute_reply": "2022-11-30T18:11:36.227898Z"
    },
    "papermill": {
     "duration": 0.019837,
     "end_time": "2022-11-30T18:11:36.230923",
     "exception": false,
     "start_time": "2022-11-30T18:11:36.211086",
     "status": "completed"
    },
    "tags": []
   },
   "outputs": [],
   "source": [
    "# we will extract time feature from the 'pickup_datetime' \n",
    "# we will add a variable which measures the distance between pickup and drop"
   ]
  },
  {
   "cell_type": "code",
   "execution_count": 13,
   "id": "9c9198b0",
   "metadata": {
    "execution": {
     "iopub.execute_input": "2022-11-30T18:11:36.253650Z",
     "iopub.status.busy": "2022-11-30T18:11:36.252950Z",
     "iopub.status.idle": "2022-11-30T18:11:36.400238Z",
     "shell.execute_reply": "2022-11-30T18:11:36.398999Z"
    },
    "papermill": {
     "duration": 0.162424,
     "end_time": "2022-11-30T18:11:36.403696",
     "exception": false,
     "start_time": "2022-11-30T18:11:36.241272",
     "status": "completed"
    },
    "tags": []
   },
   "outputs": [],
   "source": [
    "df = df.assign(hour = df.pickup_datetime.dt.hour,\n",
    "               day = df.pickup_datetime.dt.day,\n",
    "               month = df.pickup_datetime.dt.month,\n",
    "               year = df.pickup_datetime.dt.year,\n",
    "               dayofweek = df.pickup_datetime.dt.dayofweek)"
   ]
  },
  {
   "cell_type": "code",
   "execution_count": 14,
   "id": "d0e49da9",
   "metadata": {
    "execution": {
     "iopub.execute_input": "2022-11-30T18:11:36.428507Z",
     "iopub.status.busy": "2022-11-30T18:11:36.428092Z",
     "iopub.status.idle": "2022-11-30T18:11:36.452099Z",
     "shell.execute_reply": "2022-11-30T18:11:36.451203Z"
    },
    "papermill": {
     "duration": 0.038313,
     "end_time": "2022-11-30T18:11:36.454168",
     "exception": false,
     "start_time": "2022-11-30T18:11:36.415855",
     "status": "completed"
    },
    "tags": []
   },
   "outputs": [
    {
     "data": {
      "text/html": [
       "<div>\n",
       "<style scoped>\n",
       "    .dataframe tbody tr th:only-of-type {\n",
       "        vertical-align: middle;\n",
       "    }\n",
       "\n",
       "    .dataframe tbody tr th {\n",
       "        vertical-align: top;\n",
       "    }\n",
       "\n",
       "    .dataframe thead th {\n",
       "        text-align: right;\n",
       "    }\n",
       "</style>\n",
       "<table border=\"1\" class=\"dataframe\">\n",
       "  <thead>\n",
       "    <tr style=\"text-align: right;\">\n",
       "      <th></th>\n",
       "      <th>fare_amount</th>\n",
       "      <th>pickup_datetime</th>\n",
       "      <th>pickup_longitude</th>\n",
       "      <th>pickup_latitude</th>\n",
       "      <th>dropoff_longitude</th>\n",
       "      <th>dropoff_latitude</th>\n",
       "      <th>passenger_count</th>\n",
       "      <th>hour</th>\n",
       "      <th>day</th>\n",
       "      <th>month</th>\n",
       "      <th>year</th>\n",
       "      <th>dayofweek</th>\n",
       "    </tr>\n",
       "  </thead>\n",
       "  <tbody>\n",
       "    <tr>\n",
       "      <th>0</th>\n",
       "      <td>7.5</td>\n",
       "      <td>2015-05-07 19:52:06+00:00</td>\n",
       "      <td>-73.999817</td>\n",
       "      <td>40.738354</td>\n",
       "      <td>-73.999512</td>\n",
       "      <td>40.723217</td>\n",
       "      <td>1</td>\n",
       "      <td>19</td>\n",
       "      <td>7</td>\n",
       "      <td>5</td>\n",
       "      <td>2015</td>\n",
       "      <td>3</td>\n",
       "    </tr>\n",
       "    <tr>\n",
       "      <th>1</th>\n",
       "      <td>7.7</td>\n",
       "      <td>2009-07-17 20:04:56+00:00</td>\n",
       "      <td>-73.994355</td>\n",
       "      <td>40.728225</td>\n",
       "      <td>-73.994710</td>\n",
       "      <td>40.750325</td>\n",
       "      <td>1</td>\n",
       "      <td>20</td>\n",
       "      <td>17</td>\n",
       "      <td>7</td>\n",
       "      <td>2009</td>\n",
       "      <td>4</td>\n",
       "    </tr>\n",
       "    <tr>\n",
       "      <th>2</th>\n",
       "      <td>12.9</td>\n",
       "      <td>2009-08-24 21:45:00+00:00</td>\n",
       "      <td>-74.005043</td>\n",
       "      <td>40.740770</td>\n",
       "      <td>-73.962565</td>\n",
       "      <td>40.772647</td>\n",
       "      <td>1</td>\n",
       "      <td>21</td>\n",
       "      <td>24</td>\n",
       "      <td>8</td>\n",
       "      <td>2009</td>\n",
       "      <td>0</td>\n",
       "    </tr>\n",
       "    <tr>\n",
       "      <th>3</th>\n",
       "      <td>5.3</td>\n",
       "      <td>2009-06-26 08:22:21+00:00</td>\n",
       "      <td>-73.976124</td>\n",
       "      <td>40.790844</td>\n",
       "      <td>-73.965316</td>\n",
       "      <td>40.803349</td>\n",
       "      <td>3</td>\n",
       "      <td>8</td>\n",
       "      <td>26</td>\n",
       "      <td>6</td>\n",
       "      <td>2009</td>\n",
       "      <td>4</td>\n",
       "    </tr>\n",
       "    <tr>\n",
       "      <th>4</th>\n",
       "      <td>16.0</td>\n",
       "      <td>2014-08-28 17:47:00+00:00</td>\n",
       "      <td>-73.925023</td>\n",
       "      <td>40.744085</td>\n",
       "      <td>-73.973082</td>\n",
       "      <td>40.761247</td>\n",
       "      <td>5</td>\n",
       "      <td>17</td>\n",
       "      <td>28</td>\n",
       "      <td>8</td>\n",
       "      <td>2014</td>\n",
       "      <td>3</td>\n",
       "    </tr>\n",
       "    <tr>\n",
       "      <th>...</th>\n",
       "      <td>...</td>\n",
       "      <td>...</td>\n",
       "      <td>...</td>\n",
       "      <td>...</td>\n",
       "      <td>...</td>\n",
       "      <td>...</td>\n",
       "      <td>...</td>\n",
       "      <td>...</td>\n",
       "      <td>...</td>\n",
       "      <td>...</td>\n",
       "      <td>...</td>\n",
       "      <td>...</td>\n",
       "    </tr>\n",
       "    <tr>\n",
       "      <th>199995</th>\n",
       "      <td>3.0</td>\n",
       "      <td>2012-10-28 10:49:00+00:00</td>\n",
       "      <td>-73.987042</td>\n",
       "      <td>40.739367</td>\n",
       "      <td>-73.986525</td>\n",
       "      <td>40.740297</td>\n",
       "      <td>1</td>\n",
       "      <td>10</td>\n",
       "      <td>28</td>\n",
       "      <td>10</td>\n",
       "      <td>2012</td>\n",
       "      <td>6</td>\n",
       "    </tr>\n",
       "    <tr>\n",
       "      <th>199996</th>\n",
       "      <td>7.5</td>\n",
       "      <td>2014-03-14 01:09:00+00:00</td>\n",
       "      <td>-73.984722</td>\n",
       "      <td>40.736837</td>\n",
       "      <td>-74.006672</td>\n",
       "      <td>40.739620</td>\n",
       "      <td>1</td>\n",
       "      <td>1</td>\n",
       "      <td>14</td>\n",
       "      <td>3</td>\n",
       "      <td>2014</td>\n",
       "      <td>4</td>\n",
       "    </tr>\n",
       "    <tr>\n",
       "      <th>199997</th>\n",
       "      <td>30.9</td>\n",
       "      <td>2009-06-29 00:42:00+00:00</td>\n",
       "      <td>-73.986017</td>\n",
       "      <td>40.756487</td>\n",
       "      <td>-73.858957</td>\n",
       "      <td>40.692588</td>\n",
       "      <td>2</td>\n",
       "      <td>0</td>\n",
       "      <td>29</td>\n",
       "      <td>6</td>\n",
       "      <td>2009</td>\n",
       "      <td>0</td>\n",
       "    </tr>\n",
       "    <tr>\n",
       "      <th>199998</th>\n",
       "      <td>14.5</td>\n",
       "      <td>2015-05-20 14:56:25+00:00</td>\n",
       "      <td>-73.997124</td>\n",
       "      <td>40.725452</td>\n",
       "      <td>-73.983215</td>\n",
       "      <td>40.695415</td>\n",
       "      <td>1</td>\n",
       "      <td>14</td>\n",
       "      <td>20</td>\n",
       "      <td>5</td>\n",
       "      <td>2015</td>\n",
       "      <td>2</td>\n",
       "    </tr>\n",
       "    <tr>\n",
       "      <th>199999</th>\n",
       "      <td>14.1</td>\n",
       "      <td>2010-05-15 04:08:00+00:00</td>\n",
       "      <td>-73.984395</td>\n",
       "      <td>40.720077</td>\n",
       "      <td>-73.985508</td>\n",
       "      <td>40.768793</td>\n",
       "      <td>1</td>\n",
       "      <td>4</td>\n",
       "      <td>15</td>\n",
       "      <td>5</td>\n",
       "      <td>2010</td>\n",
       "      <td>5</td>\n",
       "    </tr>\n",
       "  </tbody>\n",
       "</table>\n",
       "<p>200000 rows × 12 columns</p>\n",
       "</div>"
      ],
      "text/plain": [
       "        fare_amount           pickup_datetime  pickup_longitude  \\\n",
       "0               7.5 2015-05-07 19:52:06+00:00        -73.999817   \n",
       "1               7.7 2009-07-17 20:04:56+00:00        -73.994355   \n",
       "2              12.9 2009-08-24 21:45:00+00:00        -74.005043   \n",
       "3               5.3 2009-06-26 08:22:21+00:00        -73.976124   \n",
       "4              16.0 2014-08-28 17:47:00+00:00        -73.925023   \n",
       "...             ...                       ...               ...   \n",
       "199995          3.0 2012-10-28 10:49:00+00:00        -73.987042   \n",
       "199996          7.5 2014-03-14 01:09:00+00:00        -73.984722   \n",
       "199997         30.9 2009-06-29 00:42:00+00:00        -73.986017   \n",
       "199998         14.5 2015-05-20 14:56:25+00:00        -73.997124   \n",
       "199999         14.1 2010-05-15 04:08:00+00:00        -73.984395   \n",
       "\n",
       "        pickup_latitude  dropoff_longitude  dropoff_latitude  passenger_count  \\\n",
       "0             40.738354         -73.999512         40.723217                1   \n",
       "1             40.728225         -73.994710         40.750325                1   \n",
       "2             40.740770         -73.962565         40.772647                1   \n",
       "3             40.790844         -73.965316         40.803349                3   \n",
       "4             40.744085         -73.973082         40.761247                5   \n",
       "...                 ...                ...               ...              ...   \n",
       "199995        40.739367         -73.986525         40.740297                1   \n",
       "199996        40.736837         -74.006672         40.739620                1   \n",
       "199997        40.756487         -73.858957         40.692588                2   \n",
       "199998        40.725452         -73.983215         40.695415                1   \n",
       "199999        40.720077         -73.985508         40.768793                1   \n",
       "\n",
       "        hour  day  month  year  dayofweek  \n",
       "0         19    7      5  2015          3  \n",
       "1         20   17      7  2009          4  \n",
       "2         21   24      8  2009          0  \n",
       "3          8   26      6  2009          4  \n",
       "4         17   28      8  2014          3  \n",
       "...      ...  ...    ...   ...        ...  \n",
       "199995    10   28     10  2012          6  \n",
       "199996     1   14      3  2014          4  \n",
       "199997     0   29      6  2009          0  \n",
       "199998    14   20      5  2015          2  \n",
       "199999     4   15      5  2010          5  \n",
       "\n",
       "[200000 rows x 12 columns]"
      ]
     },
     "execution_count": 14,
     "metadata": {},
     "output_type": "execute_result"
    }
   ],
   "source": [
    "df"
   ]
  },
  {
   "cell_type": "code",
   "execution_count": 15,
   "id": "4cd501e8",
   "metadata": {
    "execution": {
     "iopub.execute_input": "2022-11-30T18:11:36.478169Z",
     "iopub.status.busy": "2022-11-30T18:11:36.476895Z",
     "iopub.status.idle": "2022-11-30T18:11:36.512305Z",
     "shell.execute_reply": "2022-11-30T18:11:36.511197Z"
    },
    "papermill": {
     "duration": 0.049831,
     "end_time": "2022-11-30T18:11:36.514861",
     "exception": false,
     "start_time": "2022-11-30T18:11:36.465030",
     "status": "completed"
    },
    "tags": []
   },
   "outputs": [
    {
     "data": {
      "text/html": [
       "<div>\n",
       "<style scoped>\n",
       "    .dataframe tbody tr th:only-of-type {\n",
       "        vertical-align: middle;\n",
       "    }\n",
       "\n",
       "    .dataframe tbody tr th {\n",
       "        vertical-align: top;\n",
       "    }\n",
       "\n",
       "    .dataframe thead th {\n",
       "        text-align: right;\n",
       "    }\n",
       "</style>\n",
       "<table border=\"1\" class=\"dataframe\">\n",
       "  <thead>\n",
       "    <tr style=\"text-align: right;\">\n",
       "      <th></th>\n",
       "      <th>fare_amount</th>\n",
       "      <th>pickup_longitude</th>\n",
       "      <th>pickup_latitude</th>\n",
       "      <th>dropoff_longitude</th>\n",
       "      <th>dropoff_latitude</th>\n",
       "      <th>passenger_count</th>\n",
       "      <th>hour</th>\n",
       "      <th>day</th>\n",
       "      <th>month</th>\n",
       "      <th>year</th>\n",
       "      <th>dayofweek</th>\n",
       "    </tr>\n",
       "  </thead>\n",
       "  <tbody>\n",
       "    <tr>\n",
       "      <th>0</th>\n",
       "      <td>7.5</td>\n",
       "      <td>-73.999817</td>\n",
       "      <td>40.738354</td>\n",
       "      <td>-73.999512</td>\n",
       "      <td>40.723217</td>\n",
       "      <td>1</td>\n",
       "      <td>19</td>\n",
       "      <td>7</td>\n",
       "      <td>5</td>\n",
       "      <td>2015</td>\n",
       "      <td>3</td>\n",
       "    </tr>\n",
       "    <tr>\n",
       "      <th>1</th>\n",
       "      <td>7.7</td>\n",
       "      <td>-73.994355</td>\n",
       "      <td>40.728225</td>\n",
       "      <td>-73.994710</td>\n",
       "      <td>40.750325</td>\n",
       "      <td>1</td>\n",
       "      <td>20</td>\n",
       "      <td>17</td>\n",
       "      <td>7</td>\n",
       "      <td>2009</td>\n",
       "      <td>4</td>\n",
       "    </tr>\n",
       "    <tr>\n",
       "      <th>2</th>\n",
       "      <td>12.9</td>\n",
       "      <td>-74.005043</td>\n",
       "      <td>40.740770</td>\n",
       "      <td>-73.962565</td>\n",
       "      <td>40.772647</td>\n",
       "      <td>1</td>\n",
       "      <td>21</td>\n",
       "      <td>24</td>\n",
       "      <td>8</td>\n",
       "      <td>2009</td>\n",
       "      <td>0</td>\n",
       "    </tr>\n",
       "    <tr>\n",
       "      <th>3</th>\n",
       "      <td>5.3</td>\n",
       "      <td>-73.976124</td>\n",
       "      <td>40.790844</td>\n",
       "      <td>-73.965316</td>\n",
       "      <td>40.803349</td>\n",
       "      <td>3</td>\n",
       "      <td>8</td>\n",
       "      <td>26</td>\n",
       "      <td>6</td>\n",
       "      <td>2009</td>\n",
       "      <td>4</td>\n",
       "    </tr>\n",
       "    <tr>\n",
       "      <th>4</th>\n",
       "      <td>16.0</td>\n",
       "      <td>-73.925023</td>\n",
       "      <td>40.744085</td>\n",
       "      <td>-73.973082</td>\n",
       "      <td>40.761247</td>\n",
       "      <td>5</td>\n",
       "      <td>17</td>\n",
       "      <td>28</td>\n",
       "      <td>8</td>\n",
       "      <td>2014</td>\n",
       "      <td>3</td>\n",
       "    </tr>\n",
       "    <tr>\n",
       "      <th>...</th>\n",
       "      <td>...</td>\n",
       "      <td>...</td>\n",
       "      <td>...</td>\n",
       "      <td>...</td>\n",
       "      <td>...</td>\n",
       "      <td>...</td>\n",
       "      <td>...</td>\n",
       "      <td>...</td>\n",
       "      <td>...</td>\n",
       "      <td>...</td>\n",
       "      <td>...</td>\n",
       "    </tr>\n",
       "    <tr>\n",
       "      <th>199995</th>\n",
       "      <td>3.0</td>\n",
       "      <td>-73.987042</td>\n",
       "      <td>40.739367</td>\n",
       "      <td>-73.986525</td>\n",
       "      <td>40.740297</td>\n",
       "      <td>1</td>\n",
       "      <td>10</td>\n",
       "      <td>28</td>\n",
       "      <td>10</td>\n",
       "      <td>2012</td>\n",
       "      <td>6</td>\n",
       "    </tr>\n",
       "    <tr>\n",
       "      <th>199996</th>\n",
       "      <td>7.5</td>\n",
       "      <td>-73.984722</td>\n",
       "      <td>40.736837</td>\n",
       "      <td>-74.006672</td>\n",
       "      <td>40.739620</td>\n",
       "      <td>1</td>\n",
       "      <td>1</td>\n",
       "      <td>14</td>\n",
       "      <td>3</td>\n",
       "      <td>2014</td>\n",
       "      <td>4</td>\n",
       "    </tr>\n",
       "    <tr>\n",
       "      <th>199997</th>\n",
       "      <td>30.9</td>\n",
       "      <td>-73.986017</td>\n",
       "      <td>40.756487</td>\n",
       "      <td>-73.858957</td>\n",
       "      <td>40.692588</td>\n",
       "      <td>2</td>\n",
       "      <td>0</td>\n",
       "      <td>29</td>\n",
       "      <td>6</td>\n",
       "      <td>2009</td>\n",
       "      <td>0</td>\n",
       "    </tr>\n",
       "    <tr>\n",
       "      <th>199998</th>\n",
       "      <td>14.5</td>\n",
       "      <td>-73.997124</td>\n",
       "      <td>40.725452</td>\n",
       "      <td>-73.983215</td>\n",
       "      <td>40.695415</td>\n",
       "      <td>1</td>\n",
       "      <td>14</td>\n",
       "      <td>20</td>\n",
       "      <td>5</td>\n",
       "      <td>2015</td>\n",
       "      <td>2</td>\n",
       "    </tr>\n",
       "    <tr>\n",
       "      <th>199999</th>\n",
       "      <td>14.1</td>\n",
       "      <td>-73.984395</td>\n",
       "      <td>40.720077</td>\n",
       "      <td>-73.985508</td>\n",
       "      <td>40.768793</td>\n",
       "      <td>1</td>\n",
       "      <td>4</td>\n",
       "      <td>15</td>\n",
       "      <td>5</td>\n",
       "      <td>2010</td>\n",
       "      <td>5</td>\n",
       "    </tr>\n",
       "  </tbody>\n",
       "</table>\n",
       "<p>200000 rows × 11 columns</p>\n",
       "</div>"
      ],
      "text/plain": [
       "        fare_amount  pickup_longitude  pickup_latitude  dropoff_longitude  \\\n",
       "0               7.5        -73.999817        40.738354         -73.999512   \n",
       "1               7.7        -73.994355        40.728225         -73.994710   \n",
       "2              12.9        -74.005043        40.740770         -73.962565   \n",
       "3               5.3        -73.976124        40.790844         -73.965316   \n",
       "4              16.0        -73.925023        40.744085         -73.973082   \n",
       "...             ...               ...              ...                ...   \n",
       "199995          3.0        -73.987042        40.739367         -73.986525   \n",
       "199996          7.5        -73.984722        40.736837         -74.006672   \n",
       "199997         30.9        -73.986017        40.756487         -73.858957   \n",
       "199998         14.5        -73.997124        40.725452         -73.983215   \n",
       "199999         14.1        -73.984395        40.720077         -73.985508   \n",
       "\n",
       "        dropoff_latitude  passenger_count  hour  day  month  year  dayofweek  \n",
       "0              40.723217                1    19    7      5  2015          3  \n",
       "1              40.750325                1    20   17      7  2009          4  \n",
       "2              40.772647                1    21   24      8  2009          0  \n",
       "3              40.803349                3     8   26      6  2009          4  \n",
       "4              40.761247                5    17   28      8  2014          3  \n",
       "...                  ...              ...   ...  ...    ...   ...        ...  \n",
       "199995         40.740297                1    10   28     10  2012          6  \n",
       "199996         40.739620                1     1   14      3  2014          4  \n",
       "199997         40.692588                2     0   29      6  2009          0  \n",
       "199998         40.695415                1    14   20      5  2015          2  \n",
       "199999         40.768793                1     4   15      5  2010          5  \n",
       "\n",
       "[200000 rows x 11 columns]"
      ]
     },
     "execution_count": 15,
     "metadata": {},
     "output_type": "execute_result"
    }
   ],
   "source": [
    "df = df.drop([\"pickup_datetime\"], axis =1)\n",
    "df"
   ]
  },
  {
   "cell_type": "code",
   "execution_count": 16,
   "id": "71428dc9",
   "metadata": {
    "execution": {
     "iopub.execute_input": "2022-11-30T18:11:36.538405Z",
     "iopub.status.busy": "2022-11-30T18:11:36.538027Z",
     "iopub.status.idle": "2022-11-30T18:11:36.546158Z",
     "shell.execute_reply": "2022-11-30T18:11:36.544924Z"
    },
    "papermill": {
     "duration": 0.022717,
     "end_time": "2022-11-30T18:11:36.548515",
     "exception": false,
     "start_time": "2022-11-30T18:11:36.525798",
     "status": "completed"
    },
    "tags": []
   },
   "outputs": [],
   "source": [
    "# function to calculate the travel distance from the longitudes and latitudes\n",
    "from math import *\n",
    "    \n",
    "def distance_formula(longitude1, latitude1, longitude2, latitude2):\n",
    "    travel_dist = []\n",
    "    \n",
    "    for pos in range (len(longitude1)):\n",
    "        lon1, lan1, lon2, lan2 = map(radians, [longitude1[pos], latitude1[pos], longitude2[pos], latitude2[pos]])\n",
    "        dist_lon = lon2 - lon1\n",
    "        dist_lan = lan2 - lan1\n",
    "        \n",
    "        a = sin(dist_lan/2)**2 + cos(lan1) * cos(lan2) * sin(dist_lon/2)**2\n",
    "        \n",
    "        #radius of earth = 6371\n",
    "        c = 2 * asin(sqrt(a)) * 6371 \n",
    "        travel_dist.append(c)\n",
    "            \n",
    "    return  travel_dist"
   ]
  },
  {
   "cell_type": "code",
   "execution_count": 17,
   "id": "6eb7d245",
   "metadata": {
    "execution": {
     "iopub.execute_input": "2022-11-30T18:11:36.572957Z",
     "iopub.status.busy": "2022-11-30T18:11:36.572556Z",
     "iopub.status.idle": "2022-11-30T18:11:36.996879Z",
     "shell.execute_reply": "2022-11-30T18:11:36.995497Z"
    },
    "papermill": {
     "duration": 0.439855,
     "end_time": "2022-11-30T18:11:36.999648",
     "exception": false,
     "start_time": "2022-11-30T18:11:36.559793",
     "status": "completed"
    },
    "tags": []
   },
   "outputs": [],
   "source": [
    "df['dist_travel_km'] = distance_formula(df.pickup_longitude.to_numpy(), df.pickup_latitude.to_numpy(), df.dropoff_longitude.to_numpy(), df.dropoff_latitude.to_numpy())"
   ]
  },
  {
   "cell_type": "markdown",
   "id": "47ac1399",
   "metadata": {
    "papermill": {
     "duration": 0.011447,
     "end_time": "2022-11-30T18:11:37.022575",
     "exception": false,
     "start_time": "2022-11-30T18:11:37.011128",
     "status": "completed"
    },
    "tags": []
   },
   "source": [
    "## 2. Identify outliers."
   ]
  },
  {
   "cell_type": "code",
   "execution_count": 18,
   "id": "4d1e34ed",
   "metadata": {
    "execution": {
     "iopub.execute_input": "2022-11-30T18:11:37.047198Z",
     "iopub.status.busy": "2022-11-30T18:11:37.046770Z",
     "iopub.status.idle": "2022-11-30T18:11:38.559325Z",
     "shell.execute_reply": "2022-11-30T18:11:38.557872Z"
    },
    "papermill": {
     "duration": 1.529856,
     "end_time": "2022-11-30T18:11:38.563324",
     "exception": false,
     "start_time": "2022-11-30T18:11:37.033468",
     "status": "completed"
    },
    "tags": []
   },
   "outputs": [
    {
     "data": {
      "image/png": "[encoded data removed]",
      "text/plain": [
       "<Figure size 1080x1440 with 12 Axes>"
      ]
     },
     "metadata": {
      "needs_background": "light"
     },
     "output_type": "display_data"
    }
   ],
   "source": [
    "df.plot(kind = \"box\",subplots = True,layout = (6,2),figsize=(15,20)) #Boxplot to check the outliers\n",
    "plt.show()"
   ]
  },
  {
   "cell_type": "code",
   "execution_count": 19,
   "id": "3cb48d8d",
   "metadata": {
    "execution": {
     "iopub.execute_input": "2022-11-30T18:11:38.595772Z",
     "iopub.status.busy": "2022-11-30T18:11:38.595332Z",
     "iopub.status.idle": "2022-11-30T18:11:38.603193Z",
     "shell.execute_reply": "2022-11-30T18:11:38.601914Z"
    },
    "papermill": {
     "duration": 0.024063,
     "end_time": "2022-11-30T18:11:38.605642",
     "exception": false,
     "start_time": "2022-11-30T18:11:38.581579",
     "status": "completed"
    },
    "tags": []
   },
   "outputs": [],
   "source": [
    "#Using the InterQuartile Range to fill the values\n",
    "def remove_outlier(df1 , col):\n",
    "    Q1 = df1[col].quantile(0.25)\n",
    "    Q3 = df1[col].quantile(0.75)\n",
    "    IQR = Q3 - Q1\n",
    "    lower_whisker = Q1-1.5*IQR\n",
    "    upper_whisker = Q3+1.5*IQR\n",
    "    df[col] = np.clip(df1[col] , lower_whisker , upper_whisker)\n",
    "    return df1\n",
    "\n",
    "def treat_outliers_all(df1 , col_list):\n",
    "    for c in col_list:\n",
    "        df1 = remove_outlier(df , c)\n",
    "    return df1"
   ]
  },
  {
   "cell_type": "code",
   "execution_count": 20,
   "id": "ea1c65d4",
   "metadata": {
    "execution": {
     "iopub.execute_input": "2022-11-30T18:11:38.630804Z",
     "iopub.status.busy": "2022-11-30T18:11:38.630338Z",
     "iopub.status.idle": "2022-11-30T18:11:38.813383Z",
     "shell.execute_reply": "2022-11-30T18:11:38.811993Z"
    },
    "papermill": {
     "duration": 0.199234,
     "end_time": "2022-11-30T18:11:38.816750",
     "exception": false,
     "start_time": "2022-11-30T18:11:38.617516",
     "status": "completed"
    },
    "scrolled": true,
    "tags": []
   },
   "outputs": [],
   "source": [
    "df = treat_outliers_all(df , df.iloc[: , 0::])"
   ]
  },
  {
   "cell_type": "code",
   "execution_count": 21,
   "id": "af3b9c0a",
   "metadata": {
    "execution": {
     "iopub.execute_input": "2022-11-30T18:11:38.848607Z",
     "iopub.status.busy": "2022-11-30T18:11:38.848072Z",
     "iopub.status.idle": "2022-11-30T18:11:40.300791Z",
     "shell.execute_reply": "2022-11-30T18:11:40.299488Z"
    },
    "papermill": {
     "duration": 1.469521,
     "end_time": "2022-11-30T18:11:40.303460",
     "exception": false,
     "start_time": "2022-11-30T18:11:38.833939",
     "status": "completed"
    },
    "tags": []
   },
   "outputs": [
    {
     "data": {
      "image/png": "[encoded data removed]",
      "text/plain": [
       "<Figure size 1080x1440 with 14 Axes>"
      ]
     },
     "metadata": {
      "needs_background": "light"
     },
     "output_type": "display_data"
    }
   ],
   "source": [
    "#Boxplot shows that dataset is free from outliers\n",
    "df.plot(kind = \"box\",subplots = True,layout = (7,2),figsize=(15,20)) \n",
    "plt.show()"
   ]
  },
  {
   "cell_type": "markdown",
   "id": "2d9d1ee4",
   "metadata": {
    "papermill": {
     "duration": 0.011965,
     "end_time": "2022-11-30T18:11:40.328234",
     "exception": false,
     "start_time": "2022-11-30T18:11:40.316269",
     "status": "completed"
    },
    "tags": []
   },
   "source": [
    "## 3. Check the correlation."
   ]
  },
  {
   "cell_type": "code",
   "execution_count": 22,
   "id": "43dd69b3",
   "metadata": {
    "execution": {
     "iopub.execute_input": "2022-11-30T18:11:40.355065Z",
     "iopub.status.busy": "2022-11-30T18:11:40.354676Z",
     "iopub.status.idle": "2022-11-30T18:11:40.478307Z",
     "shell.execute_reply": "2022-11-30T18:11:40.477089Z"
    },
    "papermill": {
     "duration": 0.13985,
     "end_time": "2022-11-30T18:11:40.480933",
     "exception": false,
     "start_time": "2022-11-30T18:11:40.341083",
     "status": "completed"
    },
    "tags": []
   },
   "outputs": [
    {
     "data": {
      "text/html": [
       "<div>\n",
       "<style scoped>\n",
       "    .dataframe tbody tr th:only-of-type {\n",
       "        vertical-align: middle;\n",
       "    }\n",
       "\n",
       "    .dataframe tbody tr th {\n",
       "        vertical-align: top;\n",
       "    }\n",
       "\n",
       "    .dataframe thead th {\n",
       "        text-align: right;\n",
       "    }\n",
       "</style>\n",
       "<table border=\"1\" class=\"dataframe\">\n",
       "  <thead>\n",
       "    <tr style=\"text-align: right;\">\n",
       "      <th></th>\n",
       "      <th>fare_amount</th>\n",
       "      <th>pickup_longitude</th>\n",
       "      <th>pickup_latitude</th>\n",
       "      <th>dropoff_longitude</th>\n",
       "      <th>dropoff_latitude</th>\n",
       "      <th>passenger_count</th>\n",
       "      <th>hour</th>\n",
       "      <th>day</th>\n",
       "      <th>month</th>\n",
       "      <th>year</th>\n",
       "      <th>dayofweek</th>\n",
       "      <th>dist_travel_km</th>\n",
       "    </tr>\n",
       "  </thead>\n",
       "  <tbody>\n",
       "    <tr>\n",
       "      <th>fare_amount</th>\n",
       "      <td>1.000000</td>\n",
       "      <td>0.154069</td>\n",
       "      <td>-0.110842</td>\n",
       "      <td>0.218675</td>\n",
       "      <td>-0.125898</td>\n",
       "      <td>0.015778</td>\n",
       "      <td>-0.023623</td>\n",
       "      <td>0.004534</td>\n",
       "      <td>0.030817</td>\n",
       "      <td>0.141277</td>\n",
       "      <td>0.013652</td>\n",
       "      <td>0.844374</td>\n",
       "    </tr>\n",
       "    <tr>\n",
       "      <th>pickup_longitude</th>\n",
       "      <td>0.154069</td>\n",
       "      <td>1.000000</td>\n",
       "      <td>0.259497</td>\n",
       "      <td>0.425619</td>\n",
       "      <td>0.073290</td>\n",
       "      <td>-0.013213</td>\n",
       "      <td>0.011579</td>\n",
       "      <td>-0.003204</td>\n",
       "      <td>0.001169</td>\n",
       "      <td>0.010198</td>\n",
       "      <td>-0.024652</td>\n",
       "      <td>0.098094</td>\n",
       "    </tr>\n",
       "    <tr>\n",
       "      <th>pickup_latitude</th>\n",
       "      <td>-0.110842</td>\n",
       "      <td>0.259497</td>\n",
       "      <td>1.000000</td>\n",
       "      <td>0.048889</td>\n",
       "      <td>0.515714</td>\n",
       "      <td>-0.012889</td>\n",
       "      <td>0.029681</td>\n",
       "      <td>-0.001553</td>\n",
       "      <td>0.001562</td>\n",
       "      <td>-0.014243</td>\n",
       "      <td>-0.042310</td>\n",
       "      <td>-0.046812</td>\n",
       "    </tr>\n",
       "    <tr>\n",
       "      <th>dropoff_longitude</th>\n",
       "      <td>0.218675</td>\n",
       "      <td>0.425619</td>\n",
       "      <td>0.048889</td>\n",
       "      <td>1.000000</td>\n",
       "      <td>0.245667</td>\n",
       "      <td>-0.009303</td>\n",
       "      <td>-0.046558</td>\n",
       "      <td>-0.004007</td>\n",
       "      <td>0.002391</td>\n",
       "      <td>0.011346</td>\n",
       "      <td>-0.003336</td>\n",
       "      <td>0.186531</td>\n",
       "    </tr>\n",
       "    <tr>\n",
       "      <th>dropoff_latitude</th>\n",
       "      <td>-0.125898</td>\n",
       "      <td>0.073290</td>\n",
       "      <td>0.515714</td>\n",
       "      <td>0.245667</td>\n",
       "      <td>1.000000</td>\n",
       "      <td>-0.006308</td>\n",
       "      <td>0.019783</td>\n",
       "      <td>-0.003479</td>\n",
       "      <td>-0.001193</td>\n",
       "      <td>-0.009603</td>\n",
       "      <td>-0.031919</td>\n",
       "      <td>-0.038900</td>\n",
       "    </tr>\n",
       "    <tr>\n",
       "      <th>passenger_count</th>\n",
       "      <td>0.015778</td>\n",
       "      <td>-0.013213</td>\n",
       "      <td>-0.012889</td>\n",
       "      <td>-0.009303</td>\n",
       "      <td>-0.006308</td>\n",
       "      <td>1.000000</td>\n",
       "      <td>0.020274</td>\n",
       "      <td>0.002712</td>\n",
       "      <td>0.010351</td>\n",
       "      <td>-0.009749</td>\n",
       "      <td>0.048550</td>\n",
       "      <td>0.009709</td>\n",
       "    </tr>\n",
       "    <tr>\n",
       "      <th>hour</th>\n",
       "      <td>-0.023623</td>\n",
       "      <td>0.011579</td>\n",
       "      <td>0.029681</td>\n",
       "      <td>-0.046558</td>\n",
       "      <td>0.019783</td>\n",
       "      <td>0.020274</td>\n",
       "      <td>1.000000</td>\n",
       "      <td>0.004677</td>\n",
       "      <td>-0.003926</td>\n",
       "      <td>0.002156</td>\n",
       "      <td>-0.086947</td>\n",
       "      <td>-0.038366</td>\n",
       "    </tr>\n",
       "    <tr>\n",
       "      <th>day</th>\n",
       "      <td>0.004534</td>\n",
       "      <td>-0.003204</td>\n",
       "      <td>-0.001553</td>\n",
       "      <td>-0.004007</td>\n",
       "      <td>-0.003479</td>\n",
       "      <td>0.002712</td>\n",
       "      <td>0.004677</td>\n",
       "      <td>1.000000</td>\n",
       "      <td>-0.017360</td>\n",
       "      <td>-0.012170</td>\n",
       "      <td>0.005617</td>\n",
       "      <td>0.003062</td>\n",
       "    </tr>\n",
       "    <tr>\n",
       "      <th>month</th>\n",
       "      <td>0.030817</td>\n",
       "      <td>0.001169</td>\n",
       "      <td>0.001562</td>\n",
       "      <td>0.002391</td>\n",
       "      <td>-0.001193</td>\n",
       "      <td>0.010351</td>\n",
       "      <td>-0.003926</td>\n",
       "      <td>-0.017360</td>\n",
       "      <td>1.000000</td>\n",
       "      <td>-0.115859</td>\n",
       "      <td>-0.008786</td>\n",
       "      <td>0.011628</td>\n",
       "    </tr>\n",
       "    <tr>\n",
       "      <th>year</th>\n",
       "      <td>0.141277</td>\n",
       "      <td>0.010198</td>\n",
       "      <td>-0.014243</td>\n",
       "      <td>0.011346</td>\n",
       "      <td>-0.009603</td>\n",
       "      <td>-0.009749</td>\n",
       "      <td>0.002156</td>\n",
       "      <td>-0.012170</td>\n",
       "      <td>-0.115859</td>\n",
       "      <td>1.000000</td>\n",
       "      <td>0.006113</td>\n",
       "      <td>0.024278</td>\n",
       "    </tr>\n",
       "    <tr>\n",
       "      <th>dayofweek</th>\n",
       "      <td>0.013652</td>\n",
       "      <td>-0.024652</td>\n",
       "      <td>-0.042310</td>\n",
       "      <td>-0.003336</td>\n",
       "      <td>-0.031919</td>\n",
       "      <td>0.048550</td>\n",
       "      <td>-0.086947</td>\n",
       "      <td>0.005617</td>\n",
       "      <td>-0.008786</td>\n",
       "      <td>0.006113</td>\n",
       "      <td>1.000000</td>\n",
       "      <td>0.027053</td>\n",
       "    </tr>\n",
       "    <tr>\n",
       "      <th>dist_travel_km</th>\n",
       "      <td>0.844374</td>\n",
       "      <td>0.098094</td>\n",
       "      <td>-0.046812</td>\n",
       "      <td>0.186531</td>\n",
       "      <td>-0.038900</td>\n",
       "      <td>0.009709</td>\n",
       "      <td>-0.038366</td>\n",
       "      <td>0.003062</td>\n",
       "      <td>0.011628</td>\n",
       "      <td>0.024278</td>\n",
       "      <td>0.027053</td>\n",
       "      <td>1.000000</td>\n",
       "    </tr>\n",
       "  </tbody>\n",
       "</table>\n",
       "</div>"
      ],
      "text/plain": [
       "                   fare_amount  pickup_longitude  pickup_latitude  \\\n",
       "fare_amount           1.000000          0.154069        -0.110842   \n",
       "pickup_longitude      0.154069          1.000000         0.259497   \n",
       "pickup_latitude      -0.110842          0.259497         1.000000   \n",
       "dropoff_longitude     0.218675          0.425619         0.048889   \n",
       "dropoff_latitude     -0.125898          0.073290         0.515714   \n",
       "passenger_count       0.015778         -0.013213        -0.012889   \n",
       "hour                 -0.023623          0.011579         0.029681   \n",
       "day                   0.004534         -0.003204        -0.001553   \n",
       "month                 0.030817          0.001169         0.001562   \n",
       "year                  0.141277          0.010198        -0.014243   \n",
       "dayofweek             0.013652         -0.024652        -0.042310   \n",
       "dist_travel_km        0.844374          0.098094        -0.046812   \n",
       "\n",
       "                   dropoff_longitude  dropoff_latitude  passenger_count  \\\n",
       "fare_amount                 0.218675         -0.125898         0.015778   \n",
       "pickup_longitude            0.425619          0.073290        -0.013213   \n",
       "pickup_latitude             0.048889          0.515714        -0.012889   \n",
       "dropoff_longitude           1.000000          0.245667        -0.009303   \n",
       "dropoff_latitude            0.245667          1.000000        -0.006308   \n",
       "passenger_count            -0.009303         -0.006308         1.000000   \n",
       "hour                       -0.046558          0.019783         0.020274   \n",
       "day                        -0.004007         -0.003479         0.002712   \n",
       "month                       0.002391         -0.001193         0.010351   \n",
       "year                        0.011346         -0.009603        -0.009749   \n",
       "dayofweek                  -0.003336         -0.031919         0.048550   \n",
       "dist_travel_km              0.186531         -0.038900         0.009709   \n",
       "\n",
       "                       hour       day     month      year  dayofweek  \\\n",
       "fare_amount       -0.023623  0.004534  0.030817  0.141277   0.013652   \n",
       "pickup_longitude   0.011579 -0.003204  0.001169  0.010198  -0.024652   \n",
       "pickup_latitude    0.029681 -0.001553  0.001562 -0.014243  -0.042310   \n",
       "dropoff_longitude -0.046558 -0.004007  0.002391  0.011346  -0.003336   \n",
       "dropoff_latitude   0.019783 -0.003479 -0.001193 -0.009603  -0.031919   \n",
       "passenger_count    0.020274  0.002712  0.010351 -0.009749   0.048550   \n",
       "hour               1.000000  0.004677 -0.003926  0.002156  -0.086947   \n",
       "day                0.004677  1.000000 -0.017360 -0.012170   0.005617   \n",
       "month             -0.003926 -0.017360  1.000000 -0.115859  -0.008786   \n",
       "year               0.002156 -0.012170 -0.115859  1.000000   0.006113   \n",
       "dayofweek         -0.086947  0.005617 -0.008786  0.006113   1.000000   \n",
       "dist_travel_km    -0.038366  0.003062  0.011628  0.024278   0.027053   \n",
       "\n",
       "                   dist_travel_km  \n",
       "fare_amount              0.844374  \n",
       "pickup_longitude         0.098094  \n",
       "pickup_latitude         -0.046812  \n",
       "dropoff_longitude        0.186531  \n",
       "dropoff_latitude        -0.038900  \n",
       "passenger_count          0.009709  \n",
       "hour                    -0.038366  \n",
       "day                      0.003062  \n",
       "month                    0.011628  \n",
       "year                     0.024278  \n",
       "dayofweek                0.027053  \n",
       "dist_travel_km           1.000000  "
      ]
     },
     "execution_count": 22,
     "metadata": {},
     "output_type": "execute_result"
    }
   ],
   "source": [
    "#Function to find the correlation\n",
    "corr = df.corr() \n",
    "corr"
   ]
  },
  {
   "cell_type": "code",
   "execution_count": 23,
   "id": "8ff0ba6d",
   "metadata": {
    "execution": {
     "iopub.execute_input": "2022-11-30T18:11:40.508232Z",
     "iopub.status.busy": "2022-11-30T18:11:40.507852Z",
     "iopub.status.idle": "2022-11-30T18:11:41.728690Z",
     "shell.execute_reply": "2022-11-30T18:11:41.727476Z"
    },
    "papermill": {
     "duration": 1.237498,
     "end_time": "2022-11-30T18:11:41.731297",
     "exception": false,
     "start_time": "2022-11-30T18:11:40.493799",
     "status": "completed"
    },
    "tags": []
   },
   "outputs": [
    {
     "data": {
      "text/plain": [
       "<AxesSubplot:>"
      ]
     },
     "execution_count": 23,
     "metadata": {},
     "output_type": "execute_result"
    },
    {
     "data": {
      "image/png": "[encoded data removed]",
      "text/plain": [
       "<Figure size 720x432 with 2 Axes>"
      ]
     },
     "metadata": {
      "needs_background": "light"
     },
     "output_type": "display_data"
    }
   ],
   "source": [
    "fig,axis = plt.subplots(figsize = (10,6))\n",
    "sns.heatmap(df.corr(),annot = True) #Correlation Heatmap (Light values means highly correlated)"
   ]
  },
  {
   "cell_type": "markdown",
   "id": "dfd3d87d",
   "metadata": {
    "papermill": {
     "duration": 0.014144,
     "end_time": "2022-11-30T18:11:41.760883",
     "exception": false,
     "start_time": "2022-11-30T18:11:41.746739",
     "status": "completed"
    },
    "tags": []
   },
   "source": [
    "## 4. Implement linear regression and random forest regression models."
   ]
  },
  {
   "cell_type": "code",
   "execution_count": 24,
   "id": "07a6cbe7",
   "metadata": {
    "execution": {
     "iopub.execute_input": "2022-11-30T18:11:41.792626Z",
     "iopub.status.busy": "2022-11-30T18:11:41.792080Z",
     "iopub.status.idle": "2022-11-30T18:11:41.807957Z",
     "shell.execute_reply": "2022-11-30T18:11:41.806445Z"
    },
    "papermill": {
     "duration": 0.035209,
     "end_time": "2022-11-30T18:11:41.811018",
     "exception": false,
     "start_time": "2022-11-30T18:11:41.775809",
     "status": "completed"
    },
    "tags": []
   },
   "outputs": [],
   "source": [
    "# Dividing the dataset into feature and target values \n",
    "df_x = df[['pickup_longitude','pickup_latitude','dropoff_longitude','dropoff_latitude','passenger_count','hour','day','month','year','dayofweek','dist_travel_km']]\n",
    "df_y = df['fare_amount']"
   ]
  },
  {
   "cell_type": "code",
   "execution_count": 25,
   "id": "796a54e7",
   "metadata": {
    "execution": {
     "iopub.execute_input": "2022-11-30T18:11:41.841470Z",
     "iopub.status.busy": "2022-11-30T18:11:41.841054Z",
     "iopub.status.idle": "2022-11-30T18:11:41.879917Z",
     "shell.execute_reply": "2022-11-30T18:11:41.878915Z"
    },
    "papermill": {
     "duration": 0.057108,
     "end_time": "2022-11-30T18:11:41.882594",
     "exception": false,
     "start_time": "2022-11-30T18:11:41.825486",
     "status": "completed"
    },
    "tags": []
   },
   "outputs": [],
   "source": [
    "# Dividing the dataset into training and testing dataset\n",
    "x_train, x_test, y_train, y_test = train_test_split(df_x, df_y, test_size=0.2, random_state=1)"
   ]
  },
  {
   "cell_type": "code",
   "execution_count": 26,
   "id": "85ac4b14",
   "metadata": {
    "execution": {
     "iopub.execute_input": "2022-11-30T18:11:41.914529Z",
     "iopub.status.busy": "2022-11-30T18:11:41.913903Z",
     "iopub.status.idle": "2022-11-30T18:11:41.935319Z",
     "shell.execute_reply": "2022-11-30T18:11:41.934223Z"
    },
    "papermill": {
     "duration": 0.040292,
     "end_time": "2022-11-30T18:11:41.937737",
     "exception": false,
     "start_time": "2022-11-30T18:11:41.897445",
     "status": "completed"
    },
    "tags": []
   },
   "outputs": [
    {
     "data": {
      "text/html": [
       "<div>\n",
       "<style scoped>\n",
       "    .dataframe tbody tr th:only-of-type {\n",
       "        vertical-align: middle;\n",
       "    }\n",
       "\n",
       "    .dataframe tbody tr th {\n",
       "        vertical-align: top;\n",
       "    }\n",
       "\n",
       "    .dataframe thead th {\n",
       "        text-align: right;\n",
       "    }\n",
       "</style>\n",
       "<table border=\"1\" class=\"dataframe\">\n",
       "  <thead>\n",
       "    <tr style=\"text-align: right;\">\n",
       "      <th></th>\n",
       "      <th>fare_amount</th>\n",
       "      <th>pickup_longitude</th>\n",
       "      <th>pickup_latitude</th>\n",
       "      <th>dropoff_longitude</th>\n",
       "      <th>dropoff_latitude</th>\n",
       "      <th>passenger_count</th>\n",
       "      <th>hour</th>\n",
       "      <th>day</th>\n",
       "      <th>month</th>\n",
       "      <th>year</th>\n",
       "      <th>dayofweek</th>\n",
       "      <th>dist_travel_km</th>\n",
       "    </tr>\n",
       "  </thead>\n",
       "  <tbody>\n",
       "    <tr>\n",
       "      <th>0</th>\n",
       "      <td>7.50</td>\n",
       "      <td>-73.999817</td>\n",
       "      <td>40.738354</td>\n",
       "      <td>-73.999512</td>\n",
       "      <td>40.723217</td>\n",
       "      <td>1.0</td>\n",
       "      <td>19</td>\n",
       "      <td>7</td>\n",
       "      <td>5</td>\n",
       "      <td>2015</td>\n",
       "      <td>3</td>\n",
       "      <td>1.683323</td>\n",
       "    </tr>\n",
       "    <tr>\n",
       "      <th>1</th>\n",
       "      <td>7.70</td>\n",
       "      <td>-73.994355</td>\n",
       "      <td>40.728225</td>\n",
       "      <td>-73.994710</td>\n",
       "      <td>40.750325</td>\n",
       "      <td>1.0</td>\n",
       "      <td>20</td>\n",
       "      <td>17</td>\n",
       "      <td>7</td>\n",
       "      <td>2009</td>\n",
       "      <td>4</td>\n",
       "      <td>2.457590</td>\n",
       "    </tr>\n",
       "    <tr>\n",
       "      <th>2</th>\n",
       "      <td>12.90</td>\n",
       "      <td>-74.005043</td>\n",
       "      <td>40.740770</td>\n",
       "      <td>-73.962565</td>\n",
       "      <td>40.772647</td>\n",
       "      <td>1.0</td>\n",
       "      <td>21</td>\n",
       "      <td>24</td>\n",
       "      <td>8</td>\n",
       "      <td>2009</td>\n",
       "      <td>0</td>\n",
       "      <td>5.036377</td>\n",
       "    </tr>\n",
       "    <tr>\n",
       "      <th>3</th>\n",
       "      <td>5.30</td>\n",
       "      <td>-73.976124</td>\n",
       "      <td>40.790844</td>\n",
       "      <td>-73.965316</td>\n",
       "      <td>40.803349</td>\n",
       "      <td>3.0</td>\n",
       "      <td>8</td>\n",
       "      <td>26</td>\n",
       "      <td>6</td>\n",
       "      <td>2009</td>\n",
       "      <td>4</td>\n",
       "      <td>1.661683</td>\n",
       "    </tr>\n",
       "    <tr>\n",
       "      <th>4</th>\n",
       "      <td>16.00</td>\n",
       "      <td>-73.929786</td>\n",
       "      <td>40.744085</td>\n",
       "      <td>-73.973082</td>\n",
       "      <td>40.761247</td>\n",
       "      <td>3.5</td>\n",
       "      <td>17</td>\n",
       "      <td>28</td>\n",
       "      <td>8</td>\n",
       "      <td>2014</td>\n",
       "      <td>3</td>\n",
       "      <td>4.475450</td>\n",
       "    </tr>\n",
       "    <tr>\n",
       "      <th>...</th>\n",
       "      <td>...</td>\n",
       "      <td>...</td>\n",
       "      <td>...</td>\n",
       "      <td>...</td>\n",
       "      <td>...</td>\n",
       "      <td>...</td>\n",
       "      <td>...</td>\n",
       "      <td>...</td>\n",
       "      <td>...</td>\n",
       "      <td>...</td>\n",
       "      <td>...</td>\n",
       "      <td>...</td>\n",
       "    </tr>\n",
       "    <tr>\n",
       "      <th>199995</th>\n",
       "      <td>3.00</td>\n",
       "      <td>-73.987042</td>\n",
       "      <td>40.739367</td>\n",
       "      <td>-73.986525</td>\n",
       "      <td>40.740297</td>\n",
       "      <td>1.0</td>\n",
       "      <td>10</td>\n",
       "      <td>28</td>\n",
       "      <td>10</td>\n",
       "      <td>2012</td>\n",
       "      <td>6</td>\n",
       "      <td>0.112210</td>\n",
       "    </tr>\n",
       "    <tr>\n",
       "      <th>199996</th>\n",
       "      <td>7.50</td>\n",
       "      <td>-73.984722</td>\n",
       "      <td>40.736837</td>\n",
       "      <td>-74.006672</td>\n",
       "      <td>40.739620</td>\n",
       "      <td>1.0</td>\n",
       "      <td>1</td>\n",
       "      <td>14</td>\n",
       "      <td>3</td>\n",
       "      <td>2014</td>\n",
       "      <td>4</td>\n",
       "      <td>1.875050</td>\n",
       "    </tr>\n",
       "    <tr>\n",
       "      <th>199997</th>\n",
       "      <td>22.25</td>\n",
       "      <td>-73.986017</td>\n",
       "      <td>40.756487</td>\n",
       "      <td>-73.922036</td>\n",
       "      <td>40.692588</td>\n",
       "      <td>2.0</td>\n",
       "      <td>0</td>\n",
       "      <td>29</td>\n",
       "      <td>6</td>\n",
       "      <td>2009</td>\n",
       "      <td>0</td>\n",
       "      <td>7.865286</td>\n",
       "    </tr>\n",
       "    <tr>\n",
       "      <th>199998</th>\n",
       "      <td>14.50</td>\n",
       "      <td>-73.997124</td>\n",
       "      <td>40.725452</td>\n",
       "      <td>-73.983215</td>\n",
       "      <td>40.695415</td>\n",
       "      <td>1.0</td>\n",
       "      <td>14</td>\n",
       "      <td>20</td>\n",
       "      <td>5</td>\n",
       "      <td>2015</td>\n",
       "      <td>2</td>\n",
       "      <td>3.539715</td>\n",
       "    </tr>\n",
       "    <tr>\n",
       "      <th>199999</th>\n",
       "      <td>14.10</td>\n",
       "      <td>-73.984395</td>\n",
       "      <td>40.720077</td>\n",
       "      <td>-73.985508</td>\n",
       "      <td>40.768793</td>\n",
       "      <td>1.0</td>\n",
       "      <td>4</td>\n",
       "      <td>15</td>\n",
       "      <td>5</td>\n",
       "      <td>2010</td>\n",
       "      <td>5</td>\n",
       "      <td>5.417783</td>\n",
       "    </tr>\n",
       "  </tbody>\n",
       "</table>\n",
       "<p>200000 rows × 12 columns</p>\n",
       "</div>"
      ],
      "text/plain": [
       "        fare_amount  pickup_longitude  pickup_latitude  dropoff_longitude  \\\n",
       "0              7.50        -73.999817        40.738354         -73.999512   \n",
       "1              7.70        -73.994355        40.728225         -73.994710   \n",
       "2             12.90        -74.005043        40.740770         -73.962565   \n",
       "3              5.30        -73.976124        40.790844         -73.965316   \n",
       "4             16.00        -73.929786        40.744085         -73.973082   \n",
       "...             ...               ...              ...                ...   \n",
       "199995         3.00        -73.987042        40.739367         -73.986525   \n",
       "199996         7.50        -73.984722        40.736837         -74.006672   \n",
       "199997        22.25        -73.986017        40.756487         -73.922036   \n",
       "199998        14.50        -73.997124        40.725452         -73.983215   \n",
       "199999        14.10        -73.984395        40.720077         -73.985508   \n",
       "\n",
       "        dropoff_latitude  passenger_count  hour  day  month  year  dayofweek  \\\n",
       "0              40.723217              1.0    19    7      5  2015          3   \n",
       "1              40.750325              1.0    20   17      7  2009          4   \n",
       "2              40.772647              1.0    21   24      8  2009          0   \n",
       "3              40.803349              3.0     8   26      6  2009          4   \n",
       "4              40.761247              3.5    17   28      8  2014          3   \n",
       "...                  ...              ...   ...  ...    ...   ...        ...   \n",
       "199995         40.740297              1.0    10   28     10  2012          6   \n",
       "199996         40.739620              1.0     1   14      3  2014          4   \n",
       "199997         40.692588              2.0     0   29      6  2009          0   \n",
       "199998         40.695415              1.0    14   20      5  2015          2   \n",
       "199999         40.768793              1.0     4   15      5  2010          5   \n",
       "\n",
       "        dist_travel_km  \n",
       "0             1.683323  \n",
       "1             2.457590  \n",
       "2             5.036377  \n",
       "3             1.661683  \n",
       "4             4.475450  \n",
       "...                ...  \n",
       "199995        0.112210  \n",
       "199996        1.875050  \n",
       "199997        7.865286  \n",
       "199998        3.539715  \n",
       "199999        5.417783  \n",
       "\n",
       "[200000 rows x 12 columns]"
      ]
     },
     "execution_count": 26,
     "metadata": {},
     "output_type": "execute_result"
    }
   ],
   "source": [
    "df"
   ]
  },
  {
   "cell_type": "code",
   "execution_count": 27,
   "id": "82a8a1b7",
   "metadata": {
    "execution": {
     "iopub.execute_input": "2022-11-30T18:11:41.970372Z",
     "iopub.status.busy": "2022-11-30T18:11:41.969740Z",
     "iopub.status.idle": "2022-11-30T18:11:42.125078Z",
     "shell.execute_reply": "2022-11-30T18:11:42.123846Z"
    },
    "papermill": {
     "duration": 0.176895,
     "end_time": "2022-11-30T18:11:42.129649",
     "exception": false,
     "start_time": "2022-11-30T18:11:41.952754",
     "status": "completed"
    },
    "tags": []
   },
   "outputs": [
    {
     "data": {
      "text/plain": [
       "LinearRegression()"
      ]
     },
     "execution_count": 27,
     "metadata": {},
     "output_type": "execute_result"
    }
   ],
   "source": [
    "from sklearn.linear_model import LinearRegression\n",
    "\n",
    "# initialize the linear regression model\n",
    "reg = LinearRegression()\n",
    "\n",
    "# Train the model with our training data\n",
    "reg.fit(x_train, y_train)"
   ]
  },
  {
   "cell_type": "code",
   "execution_count": 28,
   "id": "0827b06c",
   "metadata": {
    "execution": {
     "iopub.execute_input": "2022-11-30T18:11:42.210239Z",
     "iopub.status.busy": "2022-11-30T18:11:42.208839Z",
     "iopub.status.idle": "2022-11-30T18:11:42.225115Z",
     "shell.execute_reply": "2022-11-30T18:11:42.223310Z"
    },
    "papermill": {
     "duration": 0.061949,
     "end_time": "2022-11-30T18:11:42.229893",
     "exception": false,
     "start_time": "2022-11-30T18:11:42.167944",
     "status": "completed"
    },
    "tags": []
   },
   "outputs": [
    {
     "name": "stdout",
     "output_type": "stream",
     "text": [
      "[ 6.27615184  5.09986098  9.43641238 ... 11.07663949 12.15392248\n",
      " 11.41496075]\n"
     ]
    }
   ],
   "source": [
    "y_pred_lin = reg.predict(x_test)\n",
    "print(y_pred_lin)"
   ]
  },
  {
   "cell_type": "code",
   "execution_count": 29,
   "id": "aacb58b0",
   "metadata": {
    "execution": {
     "iopub.execute_input": "2022-11-30T18:11:42.309441Z",
     "iopub.status.busy": "2022-11-30T18:11:42.308728Z",
     "iopub.status.idle": "2022-11-30T18:14:12.266232Z",
     "shell.execute_reply": "2022-11-30T18:14:12.264937Z"
    },
    "papermill": {
     "duration": 150.015701,
     "end_time": "2022-11-30T18:14:12.284056",
     "exception": false,
     "start_time": "2022-11-30T18:11:42.268355",
     "status": "completed"
    },
    "tags": []
   },
   "outputs": [
    {
     "data": {
      "text/plain": [
       "RandomForestRegressor()"
      ]
     },
     "execution_count": 29,
     "metadata": {},
     "output_type": "execute_result"
    }
   ],
   "source": [
    "from sklearn.ensemble import RandomForestRegressor\n",
    "\n",
    "#Here n_estimators means number of trees you want to build before making the prediction\n",
    "rf = RandomForestRegressor(n_estimators=100)\n",
    "rf.fit(x_train,y_train)"
   ]
  },
  {
   "cell_type": "code",
   "execution_count": 30,
   "id": "cede4f83",
   "metadata": {
    "execution": {
     "iopub.execute_input": "2022-11-30T18:14:12.317100Z",
     "iopub.status.busy": "2022-11-30T18:14:12.316697Z",
     "iopub.status.idle": "2022-11-30T18:14:14.335748Z",
     "shell.execute_reply": "2022-11-30T18:14:14.334297Z"
    },
    "papermill": {
     "duration": 2.038938,
     "end_time": "2022-11-30T18:14:14.338274",
     "exception": false,
     "start_time": "2022-11-30T18:14:12.299336",
     "status": "completed"
    },
    "tags": []
   },
   "outputs": [
    {
     "name": "stdout",
     "output_type": "stream",
     "text": [
      "[ 4.829   7.037   9.495  ... 11.2775 11.268  13.679 ]\n"
     ]
    }
   ],
   "source": [
    "y_pred_rf = rf.predict(x_test)\n",
    "print(y_pred_rf)"
   ]
  },
  {
   "cell_type": "markdown",
   "id": "fb448169",
   "metadata": {
    "papermill": {
     "duration": 0.014918,
     "end_time": "2022-11-30T18:14:14.368941",
     "exception": false,
     "start_time": "2022-11-30T18:14:14.354023",
     "status": "completed"
    },
    "tags": []
   },
   "source": [
    "## 5. Evaluate the models and compare their respective scores like R2, RMSE, etc"
   ]
  },
  {
   "cell_type": "code",
   "execution_count": 31,
   "id": "e14a4ceb",
   "metadata": {
    "execution": {
     "iopub.execute_input": "2022-11-30T18:14:14.401569Z",
     "iopub.status.busy": "2022-11-30T18:14:14.401023Z",
     "iopub.status.idle": "2022-11-30T18:14:14.410677Z",
     "shell.execute_reply": "2022-11-30T18:14:14.409427Z"
    },
    "papermill": {
     "duration": 0.028494,
     "end_time": "2022-11-30T18:14:14.412816",
     "exception": false,
     "start_time": "2022-11-30T18:14:14.384322",
     "status": "completed"
    },
    "tags": []
   },
   "outputs": [],
   "source": [
    "cols = ['Model', 'RMSE', 'R-Squared']\n",
    "\n",
    "# create a empty dataframe of the colums\n",
    "# columns: specifies the columns to be selected\n",
    "result_tabulation = pd.DataFrame(columns = cols)"
   ]
  },
  {
   "cell_type": "code",
   "execution_count": 32,
   "id": "b944d694",
   "metadata": {
    "execution": {
     "iopub.execute_input": "2022-11-30T18:14:14.445935Z",
     "iopub.status.busy": "2022-11-30T18:14:14.444900Z",
     "iopub.status.idle": "2022-11-30T18:14:14.463644Z",
     "shell.execute_reply": "2022-11-30T18:14:14.462585Z"
    },
    "papermill": {
     "duration": 0.037539,
     "end_time": "2022-11-30T18:14:14.465893",
     "exception": false,
     "start_time": "2022-11-30T18:14:14.428354",
     "status": "completed"
    },
    "tags": []
   },
   "outputs": [
    {
     "data": {
      "text/html": [
       "<div>\n",
       "<style scoped>\n",
       "    .dataframe tbody tr th:only-of-type {\n",
       "        vertical-align: middle;\n",
       "    }\n",
       "\n",
       "    .dataframe tbody tr th {\n",
       "        vertical-align: top;\n",
       "    }\n",
       "\n",
       "    .dataframe thead th {\n",
       "        text-align: right;\n",
       "    }\n",
       "</style>\n",
       "<table border=\"1\" class=\"dataframe\">\n",
       "  <thead>\n",
       "    <tr style=\"text-align: right;\">\n",
       "      <th></th>\n",
       "      <th>Model</th>\n",
       "      <th>RMSE</th>\n",
       "      <th>R-Squared</th>\n",
       "    </tr>\n",
       "  </thead>\n",
       "  <tbody>\n",
       "    <tr>\n",
       "      <th>0</th>\n",
       "      <td>Linear Regression</td>\n",
       "      <td>2.703957</td>\n",
       "      <td>0.753906</td>\n",
       "    </tr>\n",
       "  </tbody>\n",
       "</table>\n",
       "</div>"
      ],
      "text/plain": [
       "               Model      RMSE  R-Squared\n",
       "0  Linear Regression  2.703957   0.753906"
      ]
     },
     "execution_count": 32,
     "metadata": {},
     "output_type": "execute_result"
    }
   ],
   "source": [
    "from sklearn import metrics \n",
    "from sklearn.metrics import r2_score \n",
    "\n",
    "reg_RMSE = np.sqrt(metrics.mean_squared_error(y_test, y_pred_lin))\n",
    "reg_squared = r2_score(y_test, y_pred_lin)\n",
    "\n",
    "full_metrics = pd.Series({'Model': \"Linear Regression\", 'RMSE' : reg_RMSE, 'R-Squared' : reg_squared})\n",
    "\n",
    "# append our result table using append()\n",
    "# ignore_index=True: does not use the index labels\n",
    "# python can only append a Series if ignore_index=True or if the Series has a name\n",
    "result_tabulation = result_tabulation.append(full_metrics, ignore_index = True)\n",
    "\n",
    "# print the result table\n",
    "result_tabulation"
   ]
  },
  {
   "cell_type": "code",
   "execution_count": 33,
   "id": "74345dac",
   "metadata": {
    "execution": {
     "iopub.execute_input": "2022-11-30T18:14:14.498909Z",
     "iopub.status.busy": "2022-11-30T18:14:14.498253Z",
     "iopub.status.idle": "2022-11-30T18:14:14.515655Z",
     "shell.execute_reply": "2022-11-30T18:14:14.514584Z"
    },
    "papermill": {
     "duration": 0.03626,
     "end_time": "2022-11-30T18:14:14.517773",
     "exception": false,
     "start_time": "2022-11-30T18:14:14.481513",
     "status": "completed"
    },
    "tags": []
   },
   "outputs": [
    {
     "data": {
      "text/html": [
       "<div>\n",
       "<style scoped>\n",
       "    .dataframe tbody tr th:only-of-type {\n",
       "        vertical-align: middle;\n",
       "    }\n",
       "\n",
       "    .dataframe tbody tr th {\n",
       "        vertical-align: top;\n",
       "    }\n",
       "\n",
       "    .dataframe thead th {\n",
       "        text-align: right;\n",
       "    }\n",
       "</style>\n",
       "<table border=\"1\" class=\"dataframe\">\n",
       "  <thead>\n",
       "    <tr style=\"text-align: right;\">\n",
       "      <th></th>\n",
       "      <th>Model</th>\n",
       "      <th>RMSE</th>\n",
       "      <th>R-Squared</th>\n",
       "    </tr>\n",
       "  </thead>\n",
       "  <tbody>\n",
       "    <tr>\n",
       "      <th>0</th>\n",
       "      <td>Linear Regression</td>\n",
       "      <td>2.703957</td>\n",
       "      <td>0.753906</td>\n",
       "    </tr>\n",
       "    <tr>\n",
       "      <th>1</th>\n",
       "      <td>Random Forest</td>\n",
       "      <td>2.364845</td>\n",
       "      <td>0.811762</td>\n",
       "    </tr>\n",
       "  </tbody>\n",
       "</table>\n",
       "</div>"
      ],
      "text/plain": [
       "               Model      RMSE  R-Squared\n",
       "0  Linear Regression  2.703957   0.753906\n",
       "1     Random Forest   2.364845   0.811762"
      ]
     },
     "execution_count": 33,
     "metadata": {},
     "output_type": "execute_result"
    }
   ],
   "source": [
    "rf_RMSE = np.sqrt(metrics.mean_squared_error(y_test, y_pred_rf))\n",
    "rf_squared = r2_score(y_test, y_pred_rf)\n",
    "\n",
    "\n",
    "full_metrics = pd.Series({'Model': \"Random Forest \", 'RMSE':rf_RMSE, 'R-Squared': rf_squared})\n",
    "# append our result table using append()\n",
    "# ignore_index=True: does not use the index labels\n",
    "# python can only append a Series if ignore_index=True or if the Series has a name\n",
    "result_tabulation = result_tabulation.append(full_metrics, ignore_index = True)\n",
    "\n",
    "# print the result table\n",
    "result_tabulation\n"
   ]
  }
 ],
 "metadata": {
  "kernelspec": {
   "display_name": "Python 3",
   "language": "python",
   "name": "python3"
  },
  "language_info": {
   "codemirror_mode": {
    "name": "ipython",
    "version": 3
   },
   "file_extension": ".py",
   "mimetype": "text/x-python",
   "name": "python",
   "nbconvert_exporter": "python",
   "pygments_lexer": "ipython3",
   "version": "3.7.12"
  },
  "papermill": {
   "default_parameters": {},
   "duration": 199.276953,
   "end_time": "2022-11-30T18:14:15.457001",
   "environment_variables": {},
   "exception": null,
   "input_path": "__notebook__.ipynb",
   "output_path": "__notebook__.ipynb",
   "parameters": {},
   "start_time": "2022-11-30T18:10:56.180048",
   "version": "2.3.4"
  }
 },
 "nbformat": 4,
 "nbformat_minor": 5
}
